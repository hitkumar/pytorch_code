{
 "cells": [
  {
   "cell_type": "code",
   "execution_count": null,
   "metadata": {},
   "outputs": [],
   "source": [
    "import torch\n",
    "import torch.autograd as autograd\n",
    "import torch.nn as nn\n",
    "import torch.nn.functional as F\n",
    "import torch.optim as optim\n",
    "\n",
    "torch.manual_seed(1)"
   ]
  },
  {
   "cell_type": "code",
   "execution_count": null,
   "metadata": {},
   "outputs": [],
   "source": [
    "rnn = nn.RNN(10, 20)\n",
    "print(rnn.num_layers)\n",
    "input = autograd.Variable(torch.randn(5, 3, 10))\n",
    "hidden = autograd.Variable(torch.randn(1, 3, 20))\n",
    "output, hn = rnn(input, hidden)\n",
    "# print (output.type)\n",
    "print (hn.type)"
   ]
  },
  {
   "cell_type": "code",
   "execution_count": null,
   "metadata": {},
   "outputs": [],
   "source": [
    "lstm = nn.LSTM(3, 3)\n",
    "print (lstm.num_layers)\n",
    "inputs = [autograd.Variable(torch.randn(1, 3)) for _ in range(5)]\n",
    "# print (inputs)\n",
    "hidden = (autograd.Variable(torch.Tensor(1, 1, 3)),\n",
    "         autograd.Variable(torch.Tensor(1, 1, 3)))\n",
    "# print (hidden)\n",
    "\n",
    "for i in inputs:\n",
    "    output, h = lstm(i, hidden)\n",
    "    # print (h)\n",
    "\n",
    "inputs1 = torch.cat(inputs)\n",
    "print (inputs1.type)\n",
    "inputs = torch.cat(inputs).view(len(inputs), 1, -1)\n",
    "print (inputs.type)"
   ]
  },
  {
   "cell_type": "code",
   "execution_count": null,
   "metadata": {},
   "outputs": [],
   "source": [
    "training_data = [\n",
    "    (\"The dog ate the apple\".split(), [\"DET\", \"NN\", \"V\", \"DET\", \"NN\"]),\n",
    "    (\"Everybody read that book\".split(), [\"NN\", \"V\", \"DET\", \"NN\"])\n",
    "]\n",
    "\n",
    "def prepare_sequence(seq, words_to_index):\n",
    "    indices = [words_to_index[w] for w in seq]\n",
    "    return autograd.Variable(torch.LongTensor(indices))\n",
    "\n",
    "word_to_index = {}\n",
    "for sent, _ in training_data:\n",
    "    for word in sent:\n",
    "        if word not in word_to_index:\n",
    "            word_to_index[word] = len(word_to_index)\n",
    "print (word_to_index)\n",
    "tag_to_ix = {\"DET\": 0, \"NN\": 1, \"V\": 2}\n",
    "\n",
    "EMBEDDING_DIM=6\n",
    "HIDDEN_DIM=6"
   ]
  },
  {
   "cell_type": "code",
   "execution_count": null,
   "metadata": {
    "collapsed": true
   },
   "outputs": [],
   "source": [
    "class LSTMTagger(nn.Module):\n",
    "    def __init__(self, embedding_dim, hidden_dim, vocab_size, target_size):\n",
    "        super(LSTMTagger, self).__init__()\n",
    "        self.hidden_dim = hidden_dim\n",
    "        self.word_embeddings = nn.Embedding(vocab_size, embedding_dim)\n",
    "        self.lstm = nn.LSTM(embedding_dim, hidden_dim)\n",
    "        \n",
    "        self.hidden2tag = nn.Linear(hidden_dim, target_size)\n",
    "        self.hidden = self.init_hidden()\n",
    "        \n",
    "    def init_hidden(self):\n",
    "        return (autograd.Variable(torch.Tensor(1, 1, self.hidden_dim)),\n",
    "                autograd.Variable(torch.Tensor(1, 1, self.hidden_dim)))    \n",
    "    \n",
    "    def forward(self, sentence):\n",
    "        embeds = self.word_embeddings(sentence)\n",
    "        print (\"Embeddings type is \", embeds.type)\n",
    "        lstm_out, self.hidden = self.lstm(embeds.view(len(sentence), 1, -1), self.hidden)\n",
    "        linear_out = self.hidden2tag(lstm_out.view(len(sentence), -1))\n",
    "        return F.log_softmax(linear_out)"
   ]
  },
  {
   "cell_type": "code",
   "execution_count": null,
   "metadata": {},
   "outputs": [],
   "source": [
    "model = LSTMTagger(EMBEDDING_DIM, HIDDEN_DIM, len(word_to_index), len(tag_to_ix))\n",
    "loss_function = nn.NLLLoss()\n",
    "optimizer = optim.SGD(model.parameters(), lr=0.5)\n",
    "\n",
    "sentence = prepare_sequence(training_data[0][0], word_to_index)\n",
    "# print (sentence)\n",
    "tags_score = model(sentence)\n",
    "print (tags_score)"
   ]
  },
  {
   "cell_type": "code",
   "execution_count": null,
   "metadata": {},
   "outputs": [],
   "source": [
    "for epoch in range(2):\n",
    "    for sent, tags in training_data:\n",
    "        model.zero_grad()\n",
    "        model.hidden = model.init_hidden()\n",
    "        # print (model.hidden)\n",
    "        \n",
    "        sentence_in = prepare_sequence(sent, word_to_index)\n",
    "        print (sentence_in)\n",
    "        tags_in = prepare_sequence(tags, tag_to_ix)\n",
    "        tag_scores = model(sentence_in)\n",
    "        print (tag_scores)\n",
    "        \n",
    "        loss = loss_function(tag_scores, tags_in)\n",
    "        loss.backward()\n",
    "        optimizer.step()\n",
    "        \n",
    "sentence = prepare_sequence(training_data[0][0], word_to_index)\n",
    "# print (sentence)\n",
    "tags_score = model(sentence)\n",
    "print (tags_score)        "
   ]
  },
  {
   "cell_type": "code",
   "execution_count": null,
   "metadata": {
    "collapsed": true
   },
   "outputs": [],
   "source": []
  }
 ],
 "metadata": {
  "kernelspec": {
   "display_name": "Python 3",
   "language": "python",
   "name": "python3"
  },
  "language_info": {
   "codemirror_mode": {
    "name": "ipython",
    "version": 3
   },
   "file_extension": ".py",
   "mimetype": "text/x-python",
   "name": "python",
   "nbconvert_exporter": "python",
   "pygments_lexer": "ipython3",
   "version": "3.6.1"
  }
 },
 "nbformat": 4,
 "nbformat_minor": 2
}
