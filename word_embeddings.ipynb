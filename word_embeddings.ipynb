{
 "cells": [
  {
   "cell_type": "code",
   "execution_count": null,
   "metadata": {},
   "outputs": [],
   "source": [
    "import torch\n",
    "import torch.nn as nn\n",
    "import torch.autograd as autograd\n",
    "import torch.nn.functional as F\n",
    "import torch.optim as optim\n",
    "\n",
    "torch.manual_seed(1)"
   ]
  },
  {
   "cell_type": "code",
   "execution_count": null,
   "metadata": {},
   "outputs": [],
   "source": [
    "words_to_index = {'hello': 0, 'world': 1}\n",
    "embeddings = nn.Embedding(2, 5)\n",
    "print (embeddings.type)\n",
    "lookup_tensor = torch.LongTensor([words_to_index[\"hello\"]])\n",
    "print (lookup_tensor.shape)\n",
    "hello_embed = embeddings(autograd.Variable(lookup_tensor))\n",
    "print (hello_embed)"
   ]
  },
  {
   "cell_type": "code",
   "execution_count": null,
   "metadata": {},
   "outputs": [],
   "source": [
    "CONTEXT_SIZE=2\n",
    "EMBEDDING_DIM=10\n",
    "\n",
    "test_sentence = \"\"\"When forty winters shall besiege thy brow,\n",
    "And dig deep trenches in thy beauty's field,\n",
    "Thy youth's proud livery so gazed on now,\n",
    "Will be a totter'd weed of small worth held:\n",
    "Then being asked, where all thy beauty lies,\n",
    "Where all the treasure of thy lusty days;\n",
    "To say, within thine own deep sunken eyes,\n",
    "Were an all-eating shame, and thriftless praise.\n",
    "How much more praise deserv'd thy beauty's use,\n",
    "If thou couldst answer 'This fair child of mine\n",
    "Shall sum my count, and make my old excuse,'\n",
    "Proving his beauty by succession thine!\n",
    "This were to be new made when thou art old,\n",
    "And see thy blood warm when thou feel'st it cold.\"\"\".split()\n",
    "print (len(test_sentence))\n",
    "\n",
    "trigrams = [([test_sentence[i], test_sentence[i+1]], test_sentence[i+2]) for i in range(len(test_sentence) - 2)]\n",
    "print (trigrams[:3])\n",
    "vocab = set(test_sentence)\n",
    "print (vocab)\n",
    "word_to_index = {word: i for i, word in enumerate(vocab)}\n",
    "print (word_to_index.keys())"
   ]
  },
  {
   "cell_type": "code",
   "execution_count": null,
   "metadata": {},
   "outputs": [],
   "source": [
    "class LanguageModelNN(nn.Module):\n",
    "    def __init__(self, vocab_size, context_size, embedding_dim):\n",
    "        super(LanguageModelNN, self).__init__()\n",
    "        self.embeddings = nn.Embedding(vocab_size, embedding_dim)\n",
    "        self.linear1 = nn.Linear(context_size * embedding_dim, 128)\n",
    "        self.linear2 = nn.Linear(128, vocab_size)\n",
    "    \n",
    "    def forward(self, inputs):\n",
    "        # print (inputs.type)\n",
    "        embeds = self.embeddings(inputs).view(1, -1)\n",
    "        # print (embeds.type)\n",
    "        linear1 = F.relu(self.linear1(embeds))\n",
    "        linear2 = self.linear2(linear1)\n",
    "        return F.log_softmax(linear2)\n",
    "\n",
    "losses = []\n",
    "loss_function = nn.NLLLoss()\n",
    "model = LanguageModelNN(len(vocab), CONTEXT_SIZE, EMBEDDING_DIM)\n",
    "optimizer = optim.SGD(model.parameters(), lr=0.001)\n",
    "\n",
    "def make_context_vector(context, word_to_index):\n",
    "    context_ids = [word_to_index[i] for i in context]\n",
    "    # print (context_ids)\n",
    "    return autograd.Variable(torch.LongTensor(context_ids))\n",
    "\n",
    "for epoch in range(10):\n",
    "    total_loss = torch.Tensor([0])\n",
    "    for context, target in trigrams:\n",
    "        context_ids = make_context_vector(context, word_to_index)\n",
    "        # print (conetxt_ids)\n",
    "        model.zero_grad()\n",
    "        output = model(context_ids)\n",
    "        # print (output)\n",
    "        loss = loss_function(output, make_context_vector([target], word_to_index))\n",
    "        \n",
    "        loss.backward()\n",
    "        optimizer.step()\n",
    "        total_loss += loss.data\n",
    "    losses.append(total_loss)\n",
    "    \n",
    "print (losses)"
   ]
  },
  {
   "cell_type": "code",
   "execution_count": null,
   "metadata": {
    "collapsed": true
   },
   "outputs": [],
   "source": []
  }
 ],
 "metadata": {
  "kernelspec": {
   "display_name": "Python 3",
   "language": "python",
   "name": "python3"
  },
  "language_info": {
   "codemirror_mode": {
    "name": "ipython",
    "version": 3
   },
   "file_extension": ".py",
   "mimetype": "text/x-python",
   "name": "python",
   "nbconvert_exporter": "python",
   "pygments_lexer": "ipython3",
   "version": "3.6.1"
  }
 },
 "nbformat": 4,
 "nbformat_minor": 2
}
