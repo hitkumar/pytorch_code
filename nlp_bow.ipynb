{
 "cells": [
  {
   "cell_type": "code",
   "execution_count": null,
   "metadata": {},
   "outputs": [],
   "source": [
    "import torch\n",
    "import torch.autograd as autograd\n",
    "import torch.nn as nn\n",
    "import torch.nn.functional as F\n",
    "import torch.optim as optim\n",
    "\n",
    "torch.manual_seed(1)"
   ]
  },
  {
   "cell_type": "code",
   "execution_count": null,
   "metadata": {},
   "outputs": [],
   "source": [
    "lin = nn.Linear(5, 3)\n",
    "print (lin)\n",
    "data = autograd.Variable(torch.randn(2, 5))\n",
    "print (data)\n",
    "print (lin(data))"
   ]
  },
  {
   "cell_type": "code",
   "execution_count": null,
   "metadata": {},
   "outputs": [],
   "source": [
    "data = autograd.Variable(torch.randn(2, 2))\n",
    "print (F.relu(data))\n",
    "print (F.softmax(data).sum())\n",
    "\n",
    "data = autograd.Variable(torch.randn(5))\n",
    "print (F.softmax(data))\n",
    "print (F.log_softmax(data))"
   ]
  },
  {
   "cell_type": "code",
   "execution_count": null,
   "metadata": {},
   "outputs": [],
   "source": [
    "# log Softmax(Ax + b)\n",
    "data = [(\"me gusta comer en la cafeteria\".split(), \"SPANISH\"),\n",
    "        (\"Give it to me\".split(), \"ENGLISH\"),\n",
    "        (\"No creo que sea una buena idea\".split(), \"SPANISH\"),\n",
    "        (\"No it is not a good idea to get lost at sea\".split(), \"ENGLISH\")]\n",
    "\n",
    "test_data = [(\"Yo creo que si\".split(), \"SPANISH\"),\n",
    "             (\"it is lost on me\".split(), \"ENGLISH\")]\n",
    "\n",
    "print (data[0][0])\n",
    "# print (data + test_data)"
   ]
  },
  {
   "cell_type": "code",
   "execution_count": null,
   "metadata": {},
   "outputs": [],
   "source": [
    "word_to_index = {}\n",
    "for sent, _ in data + test_data:\n",
    "    for word in sent:\n",
    "        if word not in word_to_index:\n",
    "            word_to_index[word] = len(word_to_index)\n",
    "print (word_to_index)\n",
    "\n",
    "VOCAB_SIZE = len(word_to_index)\n",
    "NUM_LABELS = 2"
   ]
  },
  {
   "cell_type": "code",
   "execution_count": null,
   "metadata": {
    "collapsed": true
   },
   "outputs": [],
   "source": [
    "class BOWClassifier(nn.Module):\n",
    "    def __init__(self, num_labels, vocab_size):\n",
    "        super(BOWClassifier, self).__init__()\n",
    "        self.linear = nn.Linear(vocab_size, num_labels)\n",
    "    \n",
    "    def forward(self, bow_vec):\n",
    "        return F.log_softmax(self.linear(bow_vec))\n",
    "    \n",
    "def make_bow_vector(sentence, word_to_ix):\n",
    "    vec = torch.zeros(len(word_to_ix))\n",
    "    for word in sentence:\n",
    "        vec[word_to_ix[word]] += 1\n",
    "    return vec.view(1, -1)\n",
    "\n",
    "def make_target(label, label_to_ix):\n",
    "    return torch.LongTensor([label_to_ix[label]])"
   ]
  },
  {
   "cell_type": "code",
   "execution_count": null,
   "metadata": {},
   "outputs": [],
   "source": [
    "model = BOWClassifier(NUM_LABELS, VOCAB_SIZE)\n",
    "for param in model.parameters():\n",
    "    print (param)    "
   ]
  },
  {
   "cell_type": "code",
   "execution_count": null,
   "metadata": {},
   "outputs": [],
   "source": [
    "sample = data[0]\n",
    "bow_vector = make_bow_vector(sample[0], word_to_index)\n",
    "print (bow_vector.shape)\n",
    "log_probs = model(autograd.Variable(bow_vector))\n",
    "print (log_probs)"
   ]
  },
  {
   "cell_type": "code",
   "execution_count": null,
   "metadata": {},
   "outputs": [],
   "source": [
    "label_to_ix = {\"SPANISH\": 0, \"ENGLISH\": 1}\n",
    "for instance, label in test_data:\n",
    "    bow_vector = autograd.Variable(make_bow_vector(instance, word_to_index))\n",
    "    log_probs = model(bow_vector)\n",
    "    print (log_probs)\n",
    "\n",
    "print (next(model.parameters())[:, word_to_index[\"creo\"]])\n",
    "\n",
    "loss_function = nn.NLLLoss()\n",
    "optimizer = optim.SGD(model.parameters(), lr=0.1)\n",
    "\n",
    "# print (next(model.parameters()))\n",
    "for epoch in range(500):\n",
    "    for instance, label in data:\n",
    "        model.zero_grad()\n",
    "        bow_vector = autograd.Variable(make_bow_vector(instance, word_to_index))\n",
    "        label_vector = autograd.Variable(make_target(label, label_to_ix))\n",
    "        # print (label_vector)\n",
    "        # print (bow_vector)\n",
    "        \n",
    "        log_prob = model(bow_vector)\n",
    "        loss = loss_function(log_prob, label_vector)\n",
    "        loss.backward()\n",
    "        optimizer.step()\n",
    "# print (next(model.parameters()))\n",
    "\n",
    "for instance, label in test_data:\n",
    "    bow_vector = autograd.Variable(make_bow_vector(instance, word_to_index))\n",
    "    log_probs = model(bow_vector)\n",
    "    print (log_probs)\n",
    "\n",
    "print (next(model.parameters())[:, word_to_index[\"creo\"]])        "
   ]
  },
  {
   "cell_type": "code",
   "execution_count": null,
   "metadata": {
    "collapsed": true
   },
   "outputs": [],
   "source": []
  }
 ],
 "metadata": {
  "kernelspec": {
   "display_name": "Python 3",
   "language": "python",
   "name": "python3"
  },
  "language_info": {
   "codemirror_mode": {
    "name": "ipython",
    "version": 3
   },
   "file_extension": ".py",
   "mimetype": "text/x-python",
   "name": "python",
   "nbconvert_exporter": "python",
   "pygments_lexer": "ipython3",
   "version": "3.6.1"
  }
 },
 "nbformat": 4,
 "nbformat_minor": 2
}
